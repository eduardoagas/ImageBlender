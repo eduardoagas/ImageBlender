{
 "cells": [
  {
   "cell_type": "code",
   "execution_count": 5,
   "metadata": {},
   "outputs": [
    {
     "name": "stdout",
     "output_type": "stream",
     "text": [
      "Images: 42\n",
      "resolving names...\n"
     ]
    },
    {
     "name": "stderr",
     "output_type": "stream",
     "text": [
      "100%|██████████| 42/42 [00:00<?, ?it/s]\n"
     ]
    },
    {
     "name": "stdout",
     "output_type": "stream",
     "text": [
      "resolving images...\n"
     ]
    },
    {
     "name": "stderr",
     "output_type": "stream",
     "text": [
      "100%|██████████| 18/18 [00:01<00:00, 12.12it/s]\n"
     ]
    },
    {
     "name": "stdout",
     "output_type": "stream",
     "text": [
      "len =  18\n",
      "blending images...\n"
     ]
    },
    {
     "name": "stderr",
     "output_type": "stream",
     "text": [
      " 11%|█         | 2/18 [00:00<00:01, 14.29it/s]"
     ]
    },
    {
     "name": "stdout",
     "output_type": "stream",
     "text": [
      "i =  0\n",
      "j =  0\n",
      "i =  0\n",
      "j =  1\n",
      "i =  1\n",
      "j =  0\n",
      "i =  1\n",
      "j =  1\n",
      "i =  2\n",
      "j =  0\n",
      "i =  2\n",
      "j =  1\n"
     ]
    },
    {
     "name": "stderr",
     "output_type": "stream",
     "text": [
      " 33%|███▎      | 6/18 [00:00<00:00, 16.41it/s]"
     ]
    },
    {
     "name": "stdout",
     "output_type": "stream",
     "text": [
      "i =  3\n",
      "j =  0\n",
      "i =  3\n",
      "j =  1\n",
      "i =  4\n",
      "j =  0\n",
      "i =  4\n",
      "j =  1\n",
      "i =  4\n",
      "j =  2\n",
      "i =  5\n",
      "j =  0\n",
      "i =  5\n",
      "j =  1\n",
      "i =  6\n",
      "j =  0\n",
      "i =  6\n",
      "j =  1\n"
     ]
    },
    {
     "name": "stderr",
     "output_type": "stream",
     "text": [
      " 44%|████▍     | 8/18 [00:00<00:00, 13.52it/s]"
     ]
    },
    {
     "name": "stdout",
     "output_type": "stream",
     "text": [
      "i =  7\n",
      "j =  0\n",
      "i =  7\n",
      "j =  1\n",
      "i =  8\n",
      "j =  0\n",
      "i =  8\n",
      "j =  1\n",
      "i =  8\n",
      "j =  2\n"
     ]
    },
    {
     "name": "stderr",
     "output_type": "stream",
     "text": [
      " 56%|█████▌    | 10/18 [00:00<00:00, 12.03it/s]"
     ]
    },
    {
     "name": "stdout",
     "output_type": "stream",
     "text": [
      "i =  9\n",
      "j =  0\n",
      "i =  9\n",
      "j =  1\n",
      "i =  9\n",
      "j =  2\n",
      "i =  10\n",
      "j =  0\n",
      "i =  10\n",
      "j =  1\n",
      "i =  11\n",
      "j =  0\n",
      "i =  11\n",
      "j =  1\n",
      "i =  11\n",
      "j =  2\n"
     ]
    },
    {
     "name": "stderr",
     "output_type": "stream",
     "text": [
      " 78%|███████▊  | 14/18 [00:01<00:00, 13.03it/s]"
     ]
    },
    {
     "name": "stdout",
     "output_type": "stream",
     "text": [
      "i =  12\n",
      "j =  0\n",
      "i =  12\n",
      "j =  1\n",
      "i =  12\n",
      "j =  2\n",
      "i =  13\n",
      "j =  0\n",
      "i =  13\n",
      "j =  1\n",
      "i =  14\n",
      "j =  0\n",
      "i =  14\n",
      "j =  1\n",
      "i =  15\n",
      "j =  0\n",
      "i =  15\n",
      "j =  1\n"
     ]
    },
    {
     "name": "stderr",
     "output_type": "stream",
     "text": [
      "100%|██████████| 18/18 [00:01<00:00, 13.76it/s]"
     ]
    },
    {
     "name": "stdout",
     "output_type": "stream",
     "text": [
      "i =  16\n",
      "j =  0\n",
      "i =  16\n",
      "j =  1\n",
      "i =  17\n",
      "j =  0\n",
      "i =  17\n",
      "j =  1\n",
      "i =  17\n",
      "j =  2\n"
     ]
    },
    {
     "name": "stderr",
     "output_type": "stream",
     "text": [
      "\n"
     ]
    }
   ],
   "source": [
    "import os\n",
    "os.environ[\"TF_CPP_MIN_LOG_LEVEL\"] = \"2\"\n",
    "\n",
    "\n",
    "import numpy as np\n",
    "import cv2\n",
    "from glob import glob\n",
    "from tqdm import tqdm\n",
    "import tensorflow as tf\n",
    "\n",
    "#read images\n",
    "images = glob(\"C:/Users/Du/Documents/ref-matte/train/mask/*\")\n",
    "#images = glob(\"../imgs/*\")\n",
    "print(f\"Images: {len(images)}\")\n",
    "\n",
    "if not os.path.exists(\"results/\"):\n",
    "    os.makedirs(\"results\")\n",
    "\n",
    "#separate images by name and store in names dictionary\n",
    "dic = dict()\n",
    "print(\"resolving names...\")\n",
    "for x in tqdm(images, total = len(images)):\n",
    "        \"\"\" Extracting the name \"\"\"\n",
    "        name = x.split(\"\\\\\")[-1] #windows format\n",
    "        nameVec = []\n",
    "        nameVec.append(x)\n",
    "        nameKey = name.split(\"_\")[2]\n",
    "        if nameKey not in dic:\n",
    "            dic[nameKey] = []\n",
    "        dic[nameKey].append(nameVec[0])\n",
    "\n",
    "#for each key read images and put in images dic\n",
    "image = dict()\n",
    "print(\"resolving images...\")\n",
    "for key in tqdm(dic, total = len(dic)):\n",
    "      image[key] = []\n",
    "      for value in dic[key]:    \n",
    "          image[key].append(cv2.imread(value, cv2.IMREAD_COLOR))\n",
    "\n",
    "#for each key merge images inside and save in path\n",
    "\n",
    "imagelist = [[0 for x in range(3)] for y in range(len(image.keys()))]\n",
    "print(\"len = \", len(image.keys()))\n",
    "i = 0\n",
    "print(\"blending images...\")\n",
    "for key in tqdm(image, total = len(image)):\n",
    "    for j in range(len(image[key])):\n",
    "        print(\"i = \", i)\n",
    "        print(\"j = \", j)\n",
    "        if j == 0:\n",
    "            imagelist[i] = image[key][j]\n",
    "        else:\n",
    "            imagelist[i] = cv2.addWeighted(imagelist[i], 1.0, image[key][j], 1.0, 0)\n",
    "    name = \"\".join([\"rim_train_\", key,\".jpg\"]) \n",
    "    save_image_path = os.path.join(\"results\", name)\n",
    "    cv2.imwrite(save_image_path, imagelist[i])\n",
    "    i += 1\n"
   ]
  }
 ],
 "metadata": {
  "kernelspec": {
   "display_name": "Python 3",
   "language": "python",
   "name": "python3"
  },
  "language_info": {
   "codemirror_mode": {
    "name": "ipython",
    "version": 3
   },
   "file_extension": ".py",
   "mimetype": "text/x-python",
   "name": "python",
   "nbconvert_exporter": "python",
   "pygments_lexer": "ipython3",
   "version": "3.10.2"
  },
  "orig_nbformat": 4
 },
 "nbformat": 4,
 "nbformat_minor": 2
}
