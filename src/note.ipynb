{
 "cells": [
  {
   "cell_type": "code",
   "execution_count": 12,
   "metadata": {},
   "outputs": [
    {
     "name": "stdout",
     "output_type": "stream",
     "text": [
      "Images: 10000\n",
      "Images: 4999\n",
      "resolving names...\n"
     ]
    },
    {
     "name": "stderr",
     "output_type": "stream",
     "text": [
      "100%|██████████| 4999/4999 [00:00<00:00, 312641.85it/s]\n"
     ]
    },
    {
     "name": "stdout",
     "output_type": "stream",
     "text": [
      "resolving images...\n"
     ]
    },
    {
     "name": "stderr",
     "output_type": "stream",
     "text": [
      " 43%|████▎     | 860/1988 [01:20<02:11,  8.57it/s]"
     ]
    }
   ],
   "source": [
    "import os\n",
    "os.environ[\"TF_CPP_MIN_LOG_LEVEL\"] = \"2\"\n",
    "\n",
    "\n",
    "import numpy as np\n",
    "import cv2\n",
    "from glob import glob\n",
    "from tqdm import tqdm\n",
    "import tensorflow as tf\n",
    "import gc\n",
    "\n",
    "#read images\n",
    "pimages = glob(\"C:/Users/Du/Documents/ref-matte/train/mask/*\")\n",
    "#images = glob(\"../imgs/*\")\n",
    "print(f\"Images: {len(pimages)}\")\n",
    "\n",
    "\n",
    "images = pimages[:4999]\n",
    "print(f\"Images: {len(images)}\")\n",
    "del pimages\n",
    "gc.collect()\n",
    "\n",
    "if not os.path.exists(\"results/\"):\n",
    "    os.makedirs(\"results\")\n",
    "\n",
    "#separate images by name and store in names dictionary\n",
    "dic = dict()\n",
    "print(\"resolving names...\")\n",
    "for x in tqdm(images, total = len(images)):\n",
    "        \"\"\" Extracting the name \"\"\"\n",
    "        name = x.split(\"\\\\\")[-1] #windows format\n",
    "        nameVec = []\n",
    "        nameVec.append(x)\n",
    "        nameKey = name.split(\"_\")[2]\n",
    "        if nameKey not in dic:\n",
    "            dic[nameKey] = []\n",
    "        dic[nameKey].append(nameVec[0])\n",
    "\n",
    "#for each key read images and put in images dic\n",
    "image = dict()\n",
    "print(\"resolving images...\")\n",
    "for key in tqdm(dic, total = len(dic)):\n",
    "      image[key] = []\n",
    "      for value in dic[key]:    \n",
    "          image[key].append(cv2.imread(value, cv2.IMREAD_COLOR))\n",
    "\n",
    "#for each key merge images inside and save in path\n",
    "del dic\n",
    "gc.collect\n",
    "\n",
    "imagelist = [[0 for x in range(4)] for y in range(len(image.keys()))]\n",
    "i = 0\n",
    "print(\"blending images...\")\n",
    "for key in tqdm(image, total = len(image)):\n",
    "    for j in range(len(image[key])):\n",
    "        lenimagekey = len(image[key])\n",
    "        if j == 0:\n",
    "            imagelist[i] = image[key][j]\n",
    "        else:\n",
    "            imagelist[i] = cv2.addWeighted(imagelist[i], 1.0, image[key][j], 1.0, 0)\n",
    "    name = \"\".join([\"rim_train_\", key,\".jpg\"]) \n",
    "    save_image_path = os.path.join(\"results\", name)\n",
    "    cv2.imwrite(save_image_path, imagelist[i])\n",
    "    i += 1\n"
   ]
  },
  {
   "cell_type": "code",
   "execution_count": null,
   "metadata": {},
   "outputs": [],
   "source": [
    "imlist = [[0 for x in range(4)] for y in range(10)]\n",
    "print(len(imlist))\n",
    "print(len(imlist[0]))\n",
    "print(imlist[9])"
   ]
  }
 ],
 "metadata": {
  "kernelspec": {
   "display_name": "Python 3",
   "language": "python",
   "name": "python3"
  },
  "language_info": {
   "codemirror_mode": {
    "name": "ipython",
    "version": 3
   },
   "file_extension": ".py",
   "mimetype": "text/x-python",
   "name": "python",
   "nbconvert_exporter": "python",
   "pygments_lexer": "ipython3",
   "version": "3.10.2"
  },
  "orig_nbformat": 4
 },
 "nbformat": 4,
 "nbformat_minor": 2
}
