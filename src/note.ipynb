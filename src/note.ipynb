{
 "cells": [
  {
   "cell_type": "code",
   "execution_count": 44,
   "metadata": {},
   "outputs": [
    {
     "name": "stdout",
     "output_type": "stream",
     "text": [
      "Images: 3\n"
     ]
    },
    {
     "name": "stderr",
     "output_type": "stream",
     "text": [
      "100%|██████████| 3/3 [00:00<?, ?it/s]"
     ]
    },
    {
     "name": "stdout",
     "output_type": "stream",
     "text": [
      "name =  rim_train_00a56935_1.png\n",
      "nameVec =  rim_train_00a56935_1.png\n",
      "00a56935\n",
      "not in dic\n",
      "name =  rim_train_00a56935_2.png\n",
      "nameVec =  rim_train_00a56935_2.png\n",
      "00a56935\n",
      "in dic!\n",
      "name =  rim_train_00a56935_3.png\n",
      "nameVec =  rim_train_00a56935_3.png\n",
      "00a56935\n",
      "in dic!\n",
      "{'00a56935': ['rim_train_00a56935_1.png', 'rim_train_00a56935_2.png', 'rim_train_00a56935_3.png']}\n"
     ]
    },
    {
     "name": "stderr",
     "output_type": "stream",
     "text": [
      "\n"
     ]
    }
   ],
   "source": [
    "import os\n",
    "os.environ[\"TF_CPP_MIN_LOG_LEVEL\"] = \"2\"\n",
    "\n",
    "\n",
    "import numpy as np\n",
    "import cv2\n",
    "from glob import glob\n",
    "from tqdm import tqdm\n",
    "import tensorflow as tf\n",
    "\n",
    "#read images\n",
    "images = glob(\"../imgs/*\")\n",
    "print(f\"Images: {len(images)}\")\n",
    "\n",
    "\n",
    "#separate images by name and store in dictionary\n",
    "dic = dict()\n",
    "for x in tqdm(images, total=len(images)):\n",
    "        \"\"\" Extracting the name \"\"\"\n",
    "        name = x.split(\"\\\\\")[-1] #windows format\n",
    "        nameVec = []\n",
    "        nameVec.append(name)\n",
    "        nameKey = name.split(\"_\")[2]\n",
    "        print(nameKey)\n",
    "        if nameKey not in dic:\n",
    "            dic[nameKey] = []\n",
    "        dic[nameKey].append(nameVec[0])\n",
    "\n",
    "#for each key merge images\n"
   ]
  }
 ],
 "metadata": {
  "kernelspec": {
   "display_name": "Python 3",
   "language": "python",
   "name": "python3"
  },
  "language_info": {
   "codemirror_mode": {
    "name": "ipython",
    "version": 3
   },
   "file_extension": ".py",
   "mimetype": "text/x-python",
   "name": "python",
   "nbconvert_exporter": "python",
   "pygments_lexer": "ipython3",
   "version": "3.10.2"
  },
  "orig_nbformat": 4
 },
 "nbformat": 4,
 "nbformat_minor": 2
}
